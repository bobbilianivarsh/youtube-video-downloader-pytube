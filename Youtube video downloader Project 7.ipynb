{
 "cells": [
  {
   "cell_type": "code",
   "execution_count": 1,
   "id": "fa93eda6-261b-4c35-8876-0fae724349d3",
   "metadata": {},
   "outputs": [
    {
     "name": "stdout",
     "output_type": "stream",
     "text": [
      "Requirement already satisfied: pytube3 in c:\\users\\aniva\\anaconda3\\lib\\site-packages (9.6.4)\n",
      "Requirement already satisfied: typing-extensions in c:\\users\\aniva\\anaconda3\\lib\\site-packages (from pytube3) (4.11.0)\n",
      "Note: you may need to restart the kernel to use updated packages.\n"
     ]
    }
   ],
   "source": [
    "pip install pytube3"
   ]
  },
  {
   "cell_type": "code",
   "execution_count": 4,
   "id": "b3e59fb5-8ff2-4392-aa98-0dd85bbc2dc1",
   "metadata": {},
   "outputs": [
    {
     "name": "stdout",
     "output_type": "stream",
     "text": [
      "Requirement already satisfied: pytube in c:\\users\\aniva\\anaconda3\\lib\\site-packages (15.0.0)\n",
      "Note: you may need to restart the kernel to use updated packages.\n"
     ]
    }
   ],
   "source": [
    "pip install --upgrade pytube"
   ]
  },
  {
   "cell_type": "code",
   "execution_count": 5,
   "id": "9a785889-a94d-44a0-837d-9b4747eec221",
   "metadata": {},
   "outputs": [],
   "source": [
    "from pytube import YouTube"
   ]
  },
  {
   "cell_type": "code",
   "execution_count": 6,
   "id": "b8966734-0fbb-41f9-b8eb-5abd721d624f",
   "metadata": {},
   "outputs": [
    {
     "name": "stdout",
     "output_type": "stream",
     "text": [
      "Requirement already satisfied: yt-dlp in c:\\users\\aniva\\anaconda3\\lib\\site-packages (2024.8.6)\n",
      "Requirement already satisfied: brotli in c:\\users\\aniva\\anaconda3\\lib\\site-packages (from yt-dlp) (1.0.9)\n",
      "Requirement already satisfied: certifi in c:\\users\\aniva\\anaconda3\\lib\\site-packages (from yt-dlp) (2024.7.4)\n",
      "Requirement already satisfied: mutagen in c:\\users\\aniva\\anaconda3\\lib\\site-packages (from yt-dlp) (1.47.0)\n",
      "Requirement already satisfied: pycryptodomex in c:\\users\\aniva\\anaconda3\\lib\\site-packages (from yt-dlp) (3.20.0)\n",
      "Requirement already satisfied: requests<3,>=2.32.2 in c:\\users\\aniva\\anaconda3\\lib\\site-packages (from yt-dlp) (2.32.2)\n",
      "Requirement already satisfied: urllib3<3,>=1.26.17 in c:\\users\\aniva\\anaconda3\\lib\\site-packages (from yt-dlp) (2.2.2)\n",
      "Requirement already satisfied: websockets>=12.0 in c:\\users\\aniva\\anaconda3\\lib\\site-packages (from yt-dlp) (13.0.1)\n",
      "Requirement already satisfied: charset-normalizer<4,>=2 in c:\\users\\aniva\\anaconda3\\lib\\site-packages (from requests<3,>=2.32.2->yt-dlp) (2.0.4)\n",
      "Requirement already satisfied: idna<4,>=2.5 in c:\\users\\aniva\\anaconda3\\lib\\site-packages (from requests<3,>=2.32.2->yt-dlp) (3.7)\n",
      "Note: you may need to restart the kernel to use updated packages.\n"
     ]
    }
   ],
   "source": [
    "pip install yt-dlp"
   ]
  },
  {
   "cell_type": "code",
   "execution_count": 7,
   "id": "22d5cb7a-2425-415d-a92e-6b11d2820905",
   "metadata": {},
   "outputs": [
    {
     "name": "stdin",
     "output_type": "stream",
     "text": [
      "Enter YouTube video  https://youtu.be/2vINcOV1olQ?si=aH1t8QZv_LMHdjoF\n"
     ]
    }
   ],
   "source": [
    "link=input(\"Enter YouTube video\")\n",
    "yt=YouTube(link)"
   ]
  },
  {
   "cell_type": "code",
   "execution_count": 8,
   "id": "420411bc-0176-47e4-ba1e-408556cc5cc5",
   "metadata": {},
   "outputs": [
    {
     "name": "stdout",
     "output_type": "stream",
     "text": [
      "Title: Gabbar Singh Songs | Kevvu Keka Full Video Song | Latest Telugu Superhits @SriBalajiMovies\n",
      "Views: 6360759\n",
      "Duration: 248\n",
      "Description: None\n",
      "Ratings: None\n"
     ]
    }
   ],
   "source": [
    "print(\"Title:\",yt.title)\n",
    "print(\"Views:\",yt.views)\n",
    "print(\"Duration:\",yt.length)\n",
    "print(\"Description:\",yt.description)\n",
    "print(\"Ratings:\",yt.rating)"
   ]
  },
  {
   "cell_type": "code",
   "execution_count": 9,
   "id": "e3d6bab9-7ba9-4ae4-a779-8d2f7d6481e1",
   "metadata": {},
   "outputs": [
    {
     "name": "stdin",
     "output_type": "stream",
     "text": [
      "Do you want to download this video? (yes/no):  yes\n"
     ]
    },
    {
     "name": "stdout",
     "output_type": "stream",
     "text": [
      "Downloading...\n",
      "[youtube] Extracting URL: https://youtu.be/2vINcOV1olQ?si=aH1t8QZv_LMHdjoF\n",
      "[youtube] 2vINcOV1olQ: Downloading webpage\n",
      "[youtube] 2vINcOV1olQ: Downloading ios player API JSON\n",
      "[youtube] 2vINcOV1olQ: Downloading web creator player API JSON\n",
      "[youtube] 2vINcOV1olQ: Downloading player 57c75fa4\n",
      "[youtube] 2vINcOV1olQ: Downloading m3u8 information\n",
      "[info] 2vINcOV1olQ: Downloading 1 format(s): 18\n",
      "[download] Gabbar Singh Songs ｜ Kevvu Keka Full Video Song ｜ Latest Telugu Superhits @SriBalajiMovies [2vINcOV1olQ].mp4 has already been downloaded\n",
      "[download] 100% of   20.07MiB\n",
      "Download completed.\n"
     ]
    }
   ],
   "source": [
    "from yt_dlp import YoutubeDL\n",
    "download_option = input(\"Do you want to download this video? (yes/no): \").lower()\n",
    "if download_option == \"yes\":\n",
    "    url = 'https://youtu.be/2vINcOV1olQ?si=aH1t8QZv_LMHdjoF';\n",
    "    ydl_opts = {'format': 'best'}\n",
    "    with YoutubeDL(ydl_opts) as ydl:\n",
    "        print(\"Downloading...\")\n",
    "        ydl.download([url])\n",
    "        print(\"Download completed.\")\n",
    "else:\n",
    "        print(\"Download aborted.\")"
   ]
  },
  {
   "cell_type": "code",
   "execution_count": 11,
   "id": "07ed0c7a-06c8-4c74-9dbc-1f7960119834",
   "metadata": {},
   "outputs": [
    {
     "data": {
      "text/plain": [
       "'C:\\\\Users\\\\aniva'"
      ]
     },
     "execution_count": 11,
     "metadata": {},
     "output_type": "execute_result"
    }
   ],
   "source": [
    "import os\n",
    "os.getcwd()"
   ]
  },
  {
   "cell_type": "code",
   "execution_count": null,
   "id": "a5878815-3b43-4d21-8e84-fd118e327042",
   "metadata": {},
   "outputs": [],
   "source": []
  },
  {
   "cell_type": "code",
   "execution_count": null,
   "id": "86f5b924-b08c-4694-9418-c1ac6539474e",
   "metadata": {},
   "outputs": [],
   "source": []
  },
  {
   "cell_type": "code",
   "execution_count": null,
   "id": "7c73b9a8-1b3b-4f86-8e8c-58058f0687a6",
   "metadata": {},
   "outputs": [],
   "source": []
  },
  {
   "cell_type": "code",
   "execution_count": null,
   "id": "a7dcc126-9b9f-42de-9471-5f1e7cb029b9",
   "metadata": {},
   "outputs": [],
   "source": []
  },
  {
   "cell_type": "code",
   "execution_count": null,
   "id": "f6e5dc42-5b78-4ea8-9b1b-00e75a766721",
   "metadata": {},
   "outputs": [],
   "source": []
  },
  {
   "cell_type": "code",
   "execution_count": null,
   "id": "21eca4cf-4e0d-4a0d-b834-ced9c51c6716",
   "metadata": {},
   "outputs": [],
   "source": []
  }
 ],
 "metadata": {
  "kernelspec": {
   "display_name": "Python 3 (ipykernel)",
   "language": "python",
   "name": "python3"
  },
  "language_info": {
   "codemirror_mode": {
    "name": "ipython",
    "version": 3
   },
   "file_extension": ".py",
   "mimetype": "text/x-python",
   "name": "python",
   "nbconvert_exporter": "python",
   "pygments_lexer": "ipython3",
   "version": "3.12.4"
  }
 },
 "nbformat": 4,
 "nbformat_minor": 5
}
